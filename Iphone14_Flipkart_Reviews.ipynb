{
 "cells": [
  {
   "cell_type": "code",
   "execution_count": 1,
   "id": "2feb5e25",
   "metadata": {},
   "outputs": [],
   "source": [
    "#Installing the library\n",
    "#!pip install requests\n",
    "#!pip install bs4"
   ]
  },
  {
   "cell_type": "code",
   "execution_count": 1,
   "id": "584fc92c",
   "metadata": {},
   "outputs": [],
   "source": [
    "#Importing the libraries\n",
    "from requests import get\n",
    "from bs4 import BeautifulSoup"
   ]
  },
  {
   "cell_type": "markdown",
   "id": "2a1ec402",
   "metadata": {},
   "source": [
    "Requesting content from webpage- https://www.flipkart.com/apple-iphone-14-starlight-128-gb/product-reviews/itm3485a56f6e676?pid=MOBGHWFHABH3G73H&lid=LSTMOBGHWFHABH3G73HVXY5AV&marketplace=FLIPKART\n"
   ]
  },
  {
   "cell_type": "markdown",
   "id": "7b85c94c",
   "metadata": {},
   "source": [
    "Here in the next cell, \n",
    "1. Importing the get() function from the requests module. \n",
    "2. Assigning the address of the webpage to a variable named URL.\n",
    "3. Request the server the content of the webpage by using get(), and store the server's response in the variable RESPONSE.\n",
    "4. Print a small part of response's content by accessing its .text attribute (response is now a Response object)."
   ]
  },
  {
   "cell_type": "code",
   "execution_count": 2,
   "id": "368fd876",
   "metadata": {},
   "outputs": [
    {
     "name": "stderr",
     "output_type": "stream",
     "text": [
      "C:\\Users\\RL465FV\\Anaconda3\\lib\\site-packages\\urllib3\\connectionpool.py:1045: InsecureRequestWarning: Unverified HTTPS request is being made to host 'www.flipkart.com'. Adding certificate verification is strongly advised. See: https://urllib3.readthedocs.io/en/1.26.x/advanced-usage.html#ssl-warnings\n",
      "  warnings.warn(\n"
     ]
    },
    {
     "name": "stdout",
     "output_type": "stream",
     "text": [
      "<!doctype html><html lang=\"en\"><head><link href=\"https://rukminim1.flixcart.com\" rel=\"preconnect\"/><link rel=\"stylesheet\" href=\"//static-assets-web.flixcart.com/fk-p-linchpin-web/fk-cp-zion/css/app_modules.chunk.905c37.css\"/><link rel=\"stylesheet\" href=\"//static-assets-web.flixcart.com/fk-p-linchpin-web/fk-cp-zion/css/app.chunk.b2f6f5.css\"/><meta http-equiv=\"Content-type\" content=\"text/html; charset=utf-8\"/><meta http-equiv=\"X-UA-Compatible\" content=\"IE=Edge\"/><meta property=\"fb:page_id\" content\n"
     ]
    }
   ],
   "source": [
    "#1 Importing get() function done above.\n",
    "#2 Assigning the address of the webpage to a variable URL\n",
    "\n",
    "URL = 'https://www.flipkart.com/apple-iphone-14-starlight-128-gb/product-reviews/itm3485a56f6e676?pid=MOBGHWFHABH3G73H&lid=LSTMOBGHWFHABH3G73HVXY5AV&marketplace=FLIPKART'\n",
    "\n",
    "#3 Requesting the server the content of the webpage by using get() and storing the server's response in the variable RESPONSE.\n",
    "response = get(URL, verify = False)\n",
    "\n",
    "#4 Printing the small part of response by using .text attribute\n",
    "\n",
    "print(response.text[:500])"
   ]
  },
  {
   "cell_type": "markdown",
   "id": "2871b43e",
   "metadata": {},
   "source": [
    "Using BeautifulSoup to parse the HTML content: (Parsing is the method of translating code into machine language to investigate the appropriate syntax of the code.)\n",
    "=> To parse our HTML document and extract the 50 div containers, we'll use a python module called BeautifulSoup, the most common web scraping module for python.\n",
    "\n",
    "In the following code cell we will\n",
    "1. Import the BeautifulSoup class creator from the package bs4.\n",
    "2. Parse response.text by creating a BeautifulSoup object, and assign this object to html_soup. The \"html.parser\" indicates that we want to do the parsing using Python's built-in HTML parser. "
   ]
  },
  {
   "cell_type": "code",
   "execution_count": 3,
   "id": "4fa40a99",
   "metadata": {},
   "outputs": [
    {
     "data": {
      "text/plain": [
       "bs4.BeautifulSoup"
      ]
     },
     "execution_count": 3,
     "metadata": {},
     "output_type": "execute_result"
    }
   ],
   "source": [
    "# Using BeautifulSoup to create a class creator\n",
    "\n",
    "html_soup = BeautifulSoup(response.text, 'html.parser')\n",
    "type(html_soup)"
   ]
  },
  {
   "cell_type": "markdown",
   "id": "6e011340",
   "metadata": {},
   "source": [
    "Before extracting the 50 div containers we need to figure out what distinguishes them from other div elements on that page.\n",
    "\n",
    "Often, the distinctive mark resides in the class attribute. If you inspect the HTML lines of the containers of interest, you'll notice that the class attribute has two values: \"col _2wzgFH\" and \"K0kLPL\".\n",
    "\n",
    "The combination is unique to these div containers. We can see that's true by doing a quick search (Ctrl +F). We have 50 such containers so we expect to see only 10 matches:"
   ]
  },
  {
   "cell_type": "code",
   "execution_count": 4,
   "id": "3f1d3ca0",
   "metadata": {},
   "outputs": [
    {
     "name": "stdout",
     "output_type": "stream",
     "text": [
      "<class 'bs4.element.ResultSet'>\n",
      "10\n"
     ]
    }
   ],
   "source": [
    "# Using find_all() method to extract all the div containers that have a class attribute of \"col _2wzgFH K0kLPL\"\n",
    "\n",
    "review_containers = html_soup.find_all('div', class_ ='col _2wzgFH K0kLPL')\n",
    "\n",
    "## Printing type and length of this container\n",
    "\n",
    "print(type(review_containers))\n",
    "print(len(review_containers))"
   ]
  },
  {
   "cell_type": "markdown",
   "id": "54445a6f",
   "metadata": {},
   "source": [
    "The find_all() command returned a ResultSet object which is a list containing all the 10 divs we are interested in.\n",
    "\n",
    "Now we'll select only the first container, and extract, by turn, each item of interest:\n",
    "1. The name of the reviewer\n",
    "2. Subject\n",
    "3. The review\n",
    "4. The rating\n",
    "5. The no of likes\n",
    "6. The no of dislikes"
   ]
  },
  {
   "cell_type": "code",
   "execution_count": 5,
   "id": "b05f5c5f",
   "metadata": {},
   "outputs": [
    {
     "data": {
      "text/plain": [
       "'Rahul Prasad '"
      ]
     },
     "execution_count": 5,
     "metadata": {},
     "output_type": "execute_result"
    }
   ],
   "source": [
    "# Lets try finding the name of the reviewer from this review_containers which contain the details about all 10 reviewers on first page\n",
    "\n",
    "# Find the detail of first review\n",
    "first_review = review_containers[0]\n",
    "first_review.div\n",
    "\n",
    "#3 Accessing the first review\n",
    "\n",
    "first_review.find('div', class_ = '').text\n",
    "\n",
    "#2 Subject: \n",
    "first_review.p.text\n",
    "\n",
    "#1 Name of the reviewer\n",
    "\n",
    "first_review.find('p', class_ = '_2sc7ZR _2V5EHH').text"
   ]
  },
  {
   "cell_type": "code",
   "execution_count": 6,
   "id": "e4847ccb",
   "metadata": {},
   "outputs": [
    {
     "data": {
      "text/plain": [
       "'5'"
      ]
     },
     "execution_count": 6,
     "metadata": {},
     "output_type": "execute_result"
    }
   ],
   "source": [
    "#4 The rating\n",
    "first_review.find('div', class_ = '_3LWZlK _1BLPMq').text"
   ]
  },
  {
   "cell_type": "code",
   "execution_count": 7,
   "id": "ced3e763",
   "metadata": {},
   "outputs": [
    {
     "data": {
      "text/plain": [
       "'4988'"
      ]
     },
     "execution_count": 7,
     "metadata": {},
     "output_type": "execute_result"
    }
   ],
   "source": [
    "#5 The no of likes\n",
    "first_review.find('span', class_ = '_3c3Px5').text"
   ]
  },
  {
   "cell_type": "code",
   "execution_count": 8,
   "id": "8d1e9691",
   "metadata": {},
   "outputs": [
    {
     "data": {
      "text/plain": [
       "'616'"
      ]
     },
     "execution_count": 8,
     "metadata": {},
     "output_type": "execute_result"
    }
   ],
   "source": [
    "#6 The no of dislikes\n",
    "first_review.find('div', class_ = '_1LmwT9 pkR4jH').find('span', class_ = '_3c3Px5').text"
   ]
  },
  {
   "cell_type": "code",
   "execution_count": 9,
   "id": "d6d28189",
   "metadata": {},
   "outputs": [],
   "source": [
    "### Script for a single page ###\n",
    "\n",
    "#1. Creating an empty list to strore the scrapped data in\n",
    "\n",
    "customername = []\n",
    "reviewsubject = []\n",
    "review = []\n",
    "rating = []\n",
    "likes = []\n",
    "dislikes = []\n",
    "\n",
    "\n",
    "#2. Extract data from individual movie names\n",
    "for x in review_containers:\n",
    "\n",
    "#If the review has name, then extract:\n",
    "    if x.find('p', class_ = '_2sc7ZR _2V5EHH') is not None:\n",
    "        \n",
    "# The Name of the reviewer\n",
    "        n = x.find('p', class_ = '_2sc7ZR _2V5EHH').text\n",
    "# The subject of the review\n",
    "        s = x.p.text\n",
    "# The review \n",
    "        r = x.find('div', class_ = '').text\n",
    "# The rating\n",
    "        ra = x.find('div', class_ = '_3LWZlK _1BLPMq').text\n",
    "# Likes\n",
    "        l = x.find('span', class_ = '_3c3Px5').text\n",
    "# Dislikes\n",
    "        dl = x.find('div', class_ = '_1LmwT9 pkR4jH').find('span', class_ = '_3c3Px5').text\n",
    "    \n",
    "        customername.append(n)\n",
    "        reviewsubject.append(s)\n",
    "        review.append(r)\n",
    "        rating.append(ra)\n",
    "        likes.append(int(l))\n",
    "        dislikes.append(int(dl))"
   ]
  },
  {
   "cell_type": "code",
   "execution_count": 10,
   "id": "2e2f9e68",
   "metadata": {},
   "outputs": [
    {
     "data": {
      "text/plain": [
       "['Rahul Prasad ',\n",
       " 'Sankhadip Mazumder',\n",
       " 'Flipkart Customer',\n",
       " 'Flipkart Customer',\n",
       " 'Feecon Behera',\n",
       " 'Samaresh  Tikader']"
      ]
     },
     "execution_count": 10,
     "metadata": {},
     "output_type": "execute_result"
    }
   ],
   "source": [
    "customername[0:6]"
   ]
  },
  {
   "cell_type": "markdown",
   "id": "f2719efb",
   "metadata": {},
   "source": [
    "SCRIPT FOR MULTIPLE PAGES\n",
    "\n",
    "Scraping multiple pages is a little challenge. We can do this in our one-page script by doing one more thing:\n",
    "\n",
    "1) Making all the requests we want from within the loop \n",
    "\n",
    "Goal: To scrap all the review pages"
   ]
  },
  {
   "cell_type": "code",
   "execution_count": 11,
   "id": "e5f849e1",
   "metadata": {},
   "outputs": [],
   "source": [
    "headers = {\"Accept-language\":\"en-US, en;q = 0.5\"}"
   ]
  },
  {
   "cell_type": "code",
   "execution_count": 12,
   "id": "91b8ba0c",
   "metadata": {},
   "outputs": [
    {
     "name": "stdout",
     "output_type": "stream",
     "text": [
      "[1, 2, 3, 4, 5, 6, 7, 8, 9, 10, 11, 12, 13, 14, 15, 16, 17, 18, 19, 20, 21, 22, 23, 24, 25, 26, 27, 28, 29, 30, 31, 32, 33, 34, 35, 36, 37, 38, 39, 40, 41, 42, 43, 44, 45, 46, 47, 48, 49, 50, 51, 52, 53, 54, 55, 56, 57, 58, 59, 60, 61, 62, 63, 64, 65, 66, 67, 68, 69, 70, 71, 72, 73, 74, 75, 76, 77, 78, 79, 80, 81, 82, 83, 84, 85, 86, 87, 88, 89, 90]\n"
     ]
    }
   ],
   "source": [
    "# Creating parameter that can change the page by creating a list of page length which will help in the loop to go upto the last pages \n",
    "\n",
    "import numpy as np\n",
    "\n",
    "page_len =np.arange(1,91).tolist()\n",
    "\n",
    "print(page_len)"
   ]
  },
  {
   "cell_type": "code",
   "execution_count": 13,
   "id": "9853eb11",
   "metadata": {},
   "outputs": [
    {
     "name": "stderr",
     "output_type": "stream",
     "text": [
      "C:\\Users\\RL465FV\\Anaconda3\\lib\\site-packages\\urllib3\\connectionpool.py:1045: InsecureRequestWarning: Unverified HTTPS request is being made to host 'www.flipkart.com'. Adding certificate verification is strongly advised. See: https://urllib3.readthedocs.io/en/1.26.x/advanced-usage.html#ssl-warnings\n",
      "  warnings.warn(\n",
      "C:\\Users\\RL465FV\\Anaconda3\\lib\\site-packages\\urllib3\\connectionpool.py:1045: InsecureRequestWarning: Unverified HTTPS request is being made to host 'www.flipkart.com'. Adding certificate verification is strongly advised. See: https://urllib3.readthedocs.io/en/1.26.x/advanced-usage.html#ssl-warnings\n",
      "  warnings.warn(\n",
      "C:\\Users\\RL465FV\\Anaconda3\\lib\\site-packages\\urllib3\\connectionpool.py:1045: InsecureRequestWarning: Unverified HTTPS request is being made to host 'www.flipkart.com'. Adding certificate verification is strongly advised. See: https://urllib3.readthedocs.io/en/1.26.x/advanced-usage.html#ssl-warnings\n",
      "  warnings.warn(\n",
      "C:\\Users\\RL465FV\\Anaconda3\\lib\\site-packages\\urllib3\\connectionpool.py:1045: InsecureRequestWarning: Unverified HTTPS request is being made to host 'www.flipkart.com'. Adding certificate verification is strongly advised. See: https://urllib3.readthedocs.io/en/1.26.x/advanced-usage.html#ssl-warnings\n",
      "  warnings.warn(\n",
      "C:\\Users\\RL465FV\\Anaconda3\\lib\\site-packages\\urllib3\\connectionpool.py:1045: InsecureRequestWarning: Unverified HTTPS request is being made to host 'www.flipkart.com'. Adding certificate verification is strongly advised. See: https://urllib3.readthedocs.io/en/1.26.x/advanced-usage.html#ssl-warnings\n",
      "  warnings.warn(\n",
      "C:\\Users\\RL465FV\\Anaconda3\\lib\\site-packages\\urllib3\\connectionpool.py:1045: InsecureRequestWarning: Unverified HTTPS request is being made to host 'www.flipkart.com'. Adding certificate verification is strongly advised. See: https://urllib3.readthedocs.io/en/1.26.x/advanced-usage.html#ssl-warnings\n",
      "  warnings.warn(\n",
      "C:\\Users\\RL465FV\\Anaconda3\\lib\\site-packages\\urllib3\\connectionpool.py:1045: InsecureRequestWarning: Unverified HTTPS request is being made to host 'www.flipkart.com'. Adding certificate verification is strongly advised. See: https://urllib3.readthedocs.io/en/1.26.x/advanced-usage.html#ssl-warnings\n",
      "  warnings.warn(\n",
      "C:\\Users\\RL465FV\\Anaconda3\\lib\\site-packages\\urllib3\\connectionpool.py:1045: InsecureRequestWarning: Unverified HTTPS request is being made to host 'www.flipkart.com'. Adding certificate verification is strongly advised. See: https://urllib3.readthedocs.io/en/1.26.x/advanced-usage.html#ssl-warnings\n",
      "  warnings.warn(\n",
      "C:\\Users\\RL465FV\\Anaconda3\\lib\\site-packages\\urllib3\\connectionpool.py:1045: InsecureRequestWarning: Unverified HTTPS request is being made to host 'www.flipkart.com'. Adding certificate verification is strongly advised. See: https://urllib3.readthedocs.io/en/1.26.x/advanced-usage.html#ssl-warnings\n",
      "  warnings.warn(\n",
      "C:\\Users\\RL465FV\\Anaconda3\\lib\\site-packages\\urllib3\\connectionpool.py:1045: InsecureRequestWarning: Unverified HTTPS request is being made to host 'www.flipkart.com'. Adding certificate verification is strongly advised. See: https://urllib3.readthedocs.io/en/1.26.x/advanced-usage.html#ssl-warnings\n",
      "  warnings.warn(\n",
      "C:\\Users\\RL465FV\\Anaconda3\\lib\\site-packages\\urllib3\\connectionpool.py:1045: InsecureRequestWarning: Unverified HTTPS request is being made to host 'www.flipkart.com'. Adding certificate verification is strongly advised. See: https://urllib3.readthedocs.io/en/1.26.x/advanced-usage.html#ssl-warnings\n",
      "  warnings.warn(\n",
      "C:\\Users\\RL465FV\\Anaconda3\\lib\\site-packages\\urllib3\\connectionpool.py:1045: InsecureRequestWarning: Unverified HTTPS request is being made to host 'www.flipkart.com'. Adding certificate verification is strongly advised. See: https://urllib3.readthedocs.io/en/1.26.x/advanced-usage.html#ssl-warnings\n",
      "  warnings.warn(\n",
      "C:\\Users\\RL465FV\\Anaconda3\\lib\\site-packages\\urllib3\\connectionpool.py:1045: InsecureRequestWarning: Unverified HTTPS request is being made to host 'www.flipkart.com'. Adding certificate verification is strongly advised. See: https://urllib3.readthedocs.io/en/1.26.x/advanced-usage.html#ssl-warnings\n",
      "  warnings.warn(\n",
      "C:\\Users\\RL465FV\\Anaconda3\\lib\\site-packages\\urllib3\\connectionpool.py:1045: InsecureRequestWarning: Unverified HTTPS request is being made to host 'www.flipkart.com'. Adding certificate verification is strongly advised. See: https://urllib3.readthedocs.io/en/1.26.x/advanced-usage.html#ssl-warnings\n",
      "  warnings.warn(\n",
      "C:\\Users\\RL465FV\\Anaconda3\\lib\\site-packages\\urllib3\\connectionpool.py:1045: InsecureRequestWarning: Unverified HTTPS request is being made to host 'www.flipkart.com'. Adding certificate verification is strongly advised. See: https://urllib3.readthedocs.io/en/1.26.x/advanced-usage.html#ssl-warnings\n",
      "  warnings.warn(\n",
      "C:\\Users\\RL465FV\\Anaconda3\\lib\\site-packages\\urllib3\\connectionpool.py:1045: InsecureRequestWarning: Unverified HTTPS request is being made to host 'www.flipkart.com'. Adding certificate verification is strongly advised. See: https://urllib3.readthedocs.io/en/1.26.x/advanced-usage.html#ssl-warnings\n",
      "  warnings.warn(\n",
      "C:\\Users\\RL465FV\\Anaconda3\\lib\\site-packages\\urllib3\\connectionpool.py:1045: InsecureRequestWarning: Unverified HTTPS request is being made to host 'www.flipkart.com'. Adding certificate verification is strongly advised. See: https://urllib3.readthedocs.io/en/1.26.x/advanced-usage.html#ssl-warnings\n",
      "  warnings.warn(\n",
      "C:\\Users\\RL465FV\\Anaconda3\\lib\\site-packages\\urllib3\\connectionpool.py:1045: InsecureRequestWarning: Unverified HTTPS request is being made to host 'www.flipkart.com'. Adding certificate verification is strongly advised. See: https://urllib3.readthedocs.io/en/1.26.x/advanced-usage.html#ssl-warnings\n",
      "  warnings.warn(\n",
      "C:\\Users\\RL465FV\\Anaconda3\\lib\\site-packages\\urllib3\\connectionpool.py:1045: InsecureRequestWarning: Unverified HTTPS request is being made to host 'www.flipkart.com'. Adding certificate verification is strongly advised. See: https://urllib3.readthedocs.io/en/1.26.x/advanced-usage.html#ssl-warnings\n",
      "  warnings.warn(\n",
      "C:\\Users\\RL465FV\\Anaconda3\\lib\\site-packages\\urllib3\\connectionpool.py:1045: InsecureRequestWarning: Unverified HTTPS request is being made to host 'www.flipkart.com'. Adding certificate verification is strongly advised. See: https://urllib3.readthedocs.io/en/1.26.x/advanced-usage.html#ssl-warnings\n",
      "  warnings.warn(\n",
      "C:\\Users\\RL465FV\\Anaconda3\\lib\\site-packages\\urllib3\\connectionpool.py:1045: InsecureRequestWarning: Unverified HTTPS request is being made to host 'www.flipkart.com'. Adding certificate verification is strongly advised. See: https://urllib3.readthedocs.io/en/1.26.x/advanced-usage.html#ssl-warnings\n",
      "  warnings.warn(\n",
      "C:\\Users\\RL465FV\\Anaconda3\\lib\\site-packages\\urllib3\\connectionpool.py:1045: InsecureRequestWarning: Unverified HTTPS request is being made to host 'www.flipkart.com'. Adding certificate verification is strongly advised. See: https://urllib3.readthedocs.io/en/1.26.x/advanced-usage.html#ssl-warnings\n",
      "  warnings.warn(\n",
      "C:\\Users\\RL465FV\\Anaconda3\\lib\\site-packages\\urllib3\\connectionpool.py:1045: InsecureRequestWarning: Unverified HTTPS request is being made to host 'www.flipkart.com'. Adding certificate verification is strongly advised. See: https://urllib3.readthedocs.io/en/1.26.x/advanced-usage.html#ssl-warnings\n",
      "  warnings.warn(\n",
      "C:\\Users\\RL465FV\\Anaconda3\\lib\\site-packages\\urllib3\\connectionpool.py:1045: InsecureRequestWarning: Unverified HTTPS request is being made to host 'www.flipkart.com'. Adding certificate verification is strongly advised. See: https://urllib3.readthedocs.io/en/1.26.x/advanced-usage.html#ssl-warnings\n",
      "  warnings.warn(\n",
      "C:\\Users\\RL465FV\\Anaconda3\\lib\\site-packages\\urllib3\\connectionpool.py:1045: InsecureRequestWarning: Unverified HTTPS request is being made to host 'www.flipkart.com'. Adding certificate verification is strongly advised. See: https://urllib3.readthedocs.io/en/1.26.x/advanced-usage.html#ssl-warnings\n",
      "  warnings.warn(\n",
      "C:\\Users\\RL465FV\\Anaconda3\\lib\\site-packages\\urllib3\\connectionpool.py:1045: InsecureRequestWarning: Unverified HTTPS request is being made to host 'www.flipkart.com'. Adding certificate verification is strongly advised. See: https://urllib3.readthedocs.io/en/1.26.x/advanced-usage.html#ssl-warnings\n",
      "  warnings.warn(\n"
     ]
    },
    {
     "name": "stderr",
     "output_type": "stream",
     "text": [
      "C:\\Users\\RL465FV\\Anaconda3\\lib\\site-packages\\urllib3\\connectionpool.py:1045: InsecureRequestWarning: Unverified HTTPS request is being made to host 'www.flipkart.com'. Adding certificate verification is strongly advised. See: https://urllib3.readthedocs.io/en/1.26.x/advanced-usage.html#ssl-warnings\n",
      "  warnings.warn(\n",
      "C:\\Users\\RL465FV\\Anaconda3\\lib\\site-packages\\urllib3\\connectionpool.py:1045: InsecureRequestWarning: Unverified HTTPS request is being made to host 'www.flipkart.com'. Adding certificate verification is strongly advised. See: https://urllib3.readthedocs.io/en/1.26.x/advanced-usage.html#ssl-warnings\n",
      "  warnings.warn(\n",
      "C:\\Users\\RL465FV\\Anaconda3\\lib\\site-packages\\urllib3\\connectionpool.py:1045: InsecureRequestWarning: Unverified HTTPS request is being made to host 'www.flipkart.com'. Adding certificate verification is strongly advised. See: https://urllib3.readthedocs.io/en/1.26.x/advanced-usage.html#ssl-warnings\n",
      "  warnings.warn(\n",
      "C:\\Users\\RL465FV\\Anaconda3\\lib\\site-packages\\urllib3\\connectionpool.py:1045: InsecureRequestWarning: Unverified HTTPS request is being made to host 'www.flipkart.com'. Adding certificate verification is strongly advised. See: https://urllib3.readthedocs.io/en/1.26.x/advanced-usage.html#ssl-warnings\n",
      "  warnings.warn(\n",
      "C:\\Users\\RL465FV\\Anaconda3\\lib\\site-packages\\urllib3\\connectionpool.py:1045: InsecureRequestWarning: Unverified HTTPS request is being made to host 'www.flipkart.com'. Adding certificate verification is strongly advised. See: https://urllib3.readthedocs.io/en/1.26.x/advanced-usage.html#ssl-warnings\n",
      "  warnings.warn(\n",
      "C:\\Users\\RL465FV\\Anaconda3\\lib\\site-packages\\urllib3\\connectionpool.py:1045: InsecureRequestWarning: Unverified HTTPS request is being made to host 'www.flipkart.com'. Adding certificate verification is strongly advised. See: https://urllib3.readthedocs.io/en/1.26.x/advanced-usage.html#ssl-warnings\n",
      "  warnings.warn(\n",
      "C:\\Users\\RL465FV\\Anaconda3\\lib\\site-packages\\urllib3\\connectionpool.py:1045: InsecureRequestWarning: Unverified HTTPS request is being made to host 'www.flipkart.com'. Adding certificate verification is strongly advised. See: https://urllib3.readthedocs.io/en/1.26.x/advanced-usage.html#ssl-warnings\n",
      "  warnings.warn(\n",
      "C:\\Users\\RL465FV\\Anaconda3\\lib\\site-packages\\urllib3\\connectionpool.py:1045: InsecureRequestWarning: Unverified HTTPS request is being made to host 'www.flipkart.com'. Adding certificate verification is strongly advised. See: https://urllib3.readthedocs.io/en/1.26.x/advanced-usage.html#ssl-warnings\n",
      "  warnings.warn(\n",
      "C:\\Users\\RL465FV\\Anaconda3\\lib\\site-packages\\urllib3\\connectionpool.py:1045: InsecureRequestWarning: Unverified HTTPS request is being made to host 'www.flipkart.com'. Adding certificate verification is strongly advised. See: https://urllib3.readthedocs.io/en/1.26.x/advanced-usage.html#ssl-warnings\n",
      "  warnings.warn(\n",
      "C:\\Users\\RL465FV\\Anaconda3\\lib\\site-packages\\urllib3\\connectionpool.py:1045: InsecureRequestWarning: Unverified HTTPS request is being made to host 'www.flipkart.com'. Adding certificate verification is strongly advised. See: https://urllib3.readthedocs.io/en/1.26.x/advanced-usage.html#ssl-warnings\n",
      "  warnings.warn(\n",
      "C:\\Users\\RL465FV\\Anaconda3\\lib\\site-packages\\urllib3\\connectionpool.py:1045: InsecureRequestWarning: Unverified HTTPS request is being made to host 'www.flipkart.com'. Adding certificate verification is strongly advised. See: https://urllib3.readthedocs.io/en/1.26.x/advanced-usage.html#ssl-warnings\n",
      "  warnings.warn(\n",
      "C:\\Users\\RL465FV\\Anaconda3\\lib\\site-packages\\urllib3\\connectionpool.py:1045: InsecureRequestWarning: Unverified HTTPS request is being made to host 'www.flipkart.com'. Adding certificate verification is strongly advised. See: https://urllib3.readthedocs.io/en/1.26.x/advanced-usage.html#ssl-warnings\n",
      "  warnings.warn(\n",
      "C:\\Users\\RL465FV\\Anaconda3\\lib\\site-packages\\urllib3\\connectionpool.py:1045: InsecureRequestWarning: Unverified HTTPS request is being made to host 'www.flipkart.com'. Adding certificate verification is strongly advised. See: https://urllib3.readthedocs.io/en/1.26.x/advanced-usage.html#ssl-warnings\n",
      "  warnings.warn(\n",
      "C:\\Users\\RL465FV\\Anaconda3\\lib\\site-packages\\urllib3\\connectionpool.py:1045: InsecureRequestWarning: Unverified HTTPS request is being made to host 'www.flipkart.com'. Adding certificate verification is strongly advised. See: https://urllib3.readthedocs.io/en/1.26.x/advanced-usage.html#ssl-warnings\n",
      "  warnings.warn(\n",
      "C:\\Users\\RL465FV\\Anaconda3\\lib\\site-packages\\urllib3\\connectionpool.py:1045: InsecureRequestWarning: Unverified HTTPS request is being made to host 'www.flipkart.com'. Adding certificate verification is strongly advised. See: https://urllib3.readthedocs.io/en/1.26.x/advanced-usage.html#ssl-warnings\n",
      "  warnings.warn(\n",
      "C:\\Users\\RL465FV\\Anaconda3\\lib\\site-packages\\urllib3\\connectionpool.py:1045: InsecureRequestWarning: Unverified HTTPS request is being made to host 'www.flipkart.com'. Adding certificate verification is strongly advised. See: https://urllib3.readthedocs.io/en/1.26.x/advanced-usage.html#ssl-warnings\n",
      "  warnings.warn(\n",
      "C:\\Users\\RL465FV\\Anaconda3\\lib\\site-packages\\urllib3\\connectionpool.py:1045: InsecureRequestWarning: Unverified HTTPS request is being made to host 'www.flipkart.com'. Adding certificate verification is strongly advised. See: https://urllib3.readthedocs.io/en/1.26.x/advanced-usage.html#ssl-warnings\n",
      "  warnings.warn(\n",
      "C:\\Users\\RL465FV\\Anaconda3\\lib\\site-packages\\urllib3\\connectionpool.py:1045: InsecureRequestWarning: Unverified HTTPS request is being made to host 'www.flipkart.com'. Adding certificate verification is strongly advised. See: https://urllib3.readthedocs.io/en/1.26.x/advanced-usage.html#ssl-warnings\n",
      "  warnings.warn(\n",
      "C:\\Users\\RL465FV\\Anaconda3\\lib\\site-packages\\urllib3\\connectionpool.py:1045: InsecureRequestWarning: Unverified HTTPS request is being made to host 'www.flipkart.com'. Adding certificate verification is strongly advised. See: https://urllib3.readthedocs.io/en/1.26.x/advanced-usage.html#ssl-warnings\n",
      "  warnings.warn(\n",
      "C:\\Users\\RL465FV\\Anaconda3\\lib\\site-packages\\urllib3\\connectionpool.py:1045: InsecureRequestWarning: Unverified HTTPS request is being made to host 'www.flipkart.com'. Adding certificate verification is strongly advised. See: https://urllib3.readthedocs.io/en/1.26.x/advanced-usage.html#ssl-warnings\n",
      "  warnings.warn(\n",
      "C:\\Users\\RL465FV\\Anaconda3\\lib\\site-packages\\urllib3\\connectionpool.py:1045: InsecureRequestWarning: Unverified HTTPS request is being made to host 'www.flipkart.com'. Adding certificate verification is strongly advised. See: https://urllib3.readthedocs.io/en/1.26.x/advanced-usage.html#ssl-warnings\n",
      "  warnings.warn(\n",
      "C:\\Users\\RL465FV\\Anaconda3\\lib\\site-packages\\urllib3\\connectionpool.py:1045: InsecureRequestWarning: Unverified HTTPS request is being made to host 'www.flipkart.com'. Adding certificate verification is strongly advised. See: https://urllib3.readthedocs.io/en/1.26.x/advanced-usage.html#ssl-warnings\n",
      "  warnings.warn(\n",
      "C:\\Users\\RL465FV\\Anaconda3\\lib\\site-packages\\urllib3\\connectionpool.py:1045: InsecureRequestWarning: Unverified HTTPS request is being made to host 'www.flipkart.com'. Adding certificate verification is strongly advised. See: https://urllib3.readthedocs.io/en/1.26.x/advanced-usage.html#ssl-warnings\n",
      "  warnings.warn(\n",
      "C:\\Users\\RL465FV\\Anaconda3\\lib\\site-packages\\urllib3\\connectionpool.py:1045: InsecureRequestWarning: Unverified HTTPS request is being made to host 'www.flipkart.com'. Adding certificate verification is strongly advised. See: https://urllib3.readthedocs.io/en/1.26.x/advanced-usage.html#ssl-warnings\n",
      "  warnings.warn(\n",
      "C:\\Users\\RL465FV\\Anaconda3\\lib\\site-packages\\urllib3\\connectionpool.py:1045: InsecureRequestWarning: Unverified HTTPS request is being made to host 'www.flipkart.com'. Adding certificate verification is strongly advised. See: https://urllib3.readthedocs.io/en/1.26.x/advanced-usage.html#ssl-warnings\n",
      "  warnings.warn(\n",
      "C:\\Users\\RL465FV\\Anaconda3\\lib\\site-packages\\urllib3\\connectionpool.py:1045: InsecureRequestWarning: Unverified HTTPS request is being made to host 'www.flipkart.com'. Adding certificate verification is strongly advised. See: https://urllib3.readthedocs.io/en/1.26.x/advanced-usage.html#ssl-warnings\n",
      "  warnings.warn(\n"
     ]
    },
    {
     "name": "stderr",
     "output_type": "stream",
     "text": [
      "C:\\Users\\RL465FV\\Anaconda3\\lib\\site-packages\\urllib3\\connectionpool.py:1045: InsecureRequestWarning: Unverified HTTPS request is being made to host 'www.flipkart.com'. Adding certificate verification is strongly advised. See: https://urllib3.readthedocs.io/en/1.26.x/advanced-usage.html#ssl-warnings\n",
      "  warnings.warn(\n",
      "C:\\Users\\RL465FV\\Anaconda3\\lib\\site-packages\\urllib3\\connectionpool.py:1045: InsecureRequestWarning: Unverified HTTPS request is being made to host 'www.flipkart.com'. Adding certificate verification is strongly advised. See: https://urllib3.readthedocs.io/en/1.26.x/advanced-usage.html#ssl-warnings\n",
      "  warnings.warn(\n",
      "C:\\Users\\RL465FV\\Anaconda3\\lib\\site-packages\\urllib3\\connectionpool.py:1045: InsecureRequestWarning: Unverified HTTPS request is being made to host 'www.flipkart.com'. Adding certificate verification is strongly advised. See: https://urllib3.readthedocs.io/en/1.26.x/advanced-usage.html#ssl-warnings\n",
      "  warnings.warn(\n",
      "C:\\Users\\RL465FV\\Anaconda3\\lib\\site-packages\\urllib3\\connectionpool.py:1045: InsecureRequestWarning: Unverified HTTPS request is being made to host 'www.flipkart.com'. Adding certificate verification is strongly advised. See: https://urllib3.readthedocs.io/en/1.26.x/advanced-usage.html#ssl-warnings\n",
      "  warnings.warn(\n",
      "C:\\Users\\RL465FV\\Anaconda3\\lib\\site-packages\\urllib3\\connectionpool.py:1045: InsecureRequestWarning: Unverified HTTPS request is being made to host 'www.flipkart.com'. Adding certificate verification is strongly advised. See: https://urllib3.readthedocs.io/en/1.26.x/advanced-usage.html#ssl-warnings\n",
      "  warnings.warn(\n",
      "C:\\Users\\RL465FV\\Anaconda3\\lib\\site-packages\\urllib3\\connectionpool.py:1045: InsecureRequestWarning: Unverified HTTPS request is being made to host 'www.flipkart.com'. Adding certificate verification is strongly advised. See: https://urllib3.readthedocs.io/en/1.26.x/advanced-usage.html#ssl-warnings\n",
      "  warnings.warn(\n",
      "C:\\Users\\RL465FV\\Anaconda3\\lib\\site-packages\\urllib3\\connectionpool.py:1045: InsecureRequestWarning: Unverified HTTPS request is being made to host 'www.flipkart.com'. Adding certificate verification is strongly advised. See: https://urllib3.readthedocs.io/en/1.26.x/advanced-usage.html#ssl-warnings\n",
      "  warnings.warn(\n",
      "C:\\Users\\RL465FV\\Anaconda3\\lib\\site-packages\\urllib3\\connectionpool.py:1045: InsecureRequestWarning: Unverified HTTPS request is being made to host 'www.flipkart.com'. Adding certificate verification is strongly advised. See: https://urllib3.readthedocs.io/en/1.26.x/advanced-usage.html#ssl-warnings\n",
      "  warnings.warn(\n",
      "C:\\Users\\RL465FV\\Anaconda3\\lib\\site-packages\\urllib3\\connectionpool.py:1045: InsecureRequestWarning: Unverified HTTPS request is being made to host 'www.flipkart.com'. Adding certificate verification is strongly advised. See: https://urllib3.readthedocs.io/en/1.26.x/advanced-usage.html#ssl-warnings\n",
      "  warnings.warn(\n",
      "C:\\Users\\RL465FV\\Anaconda3\\lib\\site-packages\\urllib3\\connectionpool.py:1045: InsecureRequestWarning: Unverified HTTPS request is being made to host 'www.flipkart.com'. Adding certificate verification is strongly advised. See: https://urllib3.readthedocs.io/en/1.26.x/advanced-usage.html#ssl-warnings\n",
      "  warnings.warn(\n",
      "C:\\Users\\RL465FV\\Anaconda3\\lib\\site-packages\\urllib3\\connectionpool.py:1045: InsecureRequestWarning: Unverified HTTPS request is being made to host 'www.flipkart.com'. Adding certificate verification is strongly advised. See: https://urllib3.readthedocs.io/en/1.26.x/advanced-usage.html#ssl-warnings\n",
      "  warnings.warn(\n",
      "C:\\Users\\RL465FV\\Anaconda3\\lib\\site-packages\\urllib3\\connectionpool.py:1045: InsecureRequestWarning: Unverified HTTPS request is being made to host 'www.flipkart.com'. Adding certificate verification is strongly advised. See: https://urllib3.readthedocs.io/en/1.26.x/advanced-usage.html#ssl-warnings\n",
      "  warnings.warn(\n",
      "C:\\Users\\RL465FV\\Anaconda3\\lib\\site-packages\\urllib3\\connectionpool.py:1045: InsecureRequestWarning: Unverified HTTPS request is being made to host 'www.flipkart.com'. Adding certificate verification is strongly advised. See: https://urllib3.readthedocs.io/en/1.26.x/advanced-usage.html#ssl-warnings\n",
      "  warnings.warn(\n",
      "C:\\Users\\RL465FV\\Anaconda3\\lib\\site-packages\\urllib3\\connectionpool.py:1045: InsecureRequestWarning: Unverified HTTPS request is being made to host 'www.flipkart.com'. Adding certificate verification is strongly advised. See: https://urllib3.readthedocs.io/en/1.26.x/advanced-usage.html#ssl-warnings\n",
      "  warnings.warn(\n",
      "C:\\Users\\RL465FV\\Anaconda3\\lib\\site-packages\\urllib3\\connectionpool.py:1045: InsecureRequestWarning: Unverified HTTPS request is being made to host 'www.flipkart.com'. Adding certificate verification is strongly advised. See: https://urllib3.readthedocs.io/en/1.26.x/advanced-usage.html#ssl-warnings\n",
      "  warnings.warn(\n",
      "C:\\Users\\RL465FV\\Anaconda3\\lib\\site-packages\\urllib3\\connectionpool.py:1045: InsecureRequestWarning: Unverified HTTPS request is being made to host 'www.flipkart.com'. Adding certificate verification is strongly advised. See: https://urllib3.readthedocs.io/en/1.26.x/advanced-usage.html#ssl-warnings\n",
      "  warnings.warn(\n",
      "C:\\Users\\RL465FV\\Anaconda3\\lib\\site-packages\\urllib3\\connectionpool.py:1045: InsecureRequestWarning: Unverified HTTPS request is being made to host 'www.flipkart.com'. Adding certificate verification is strongly advised. See: https://urllib3.readthedocs.io/en/1.26.x/advanced-usage.html#ssl-warnings\n",
      "  warnings.warn(\n",
      "C:\\Users\\RL465FV\\Anaconda3\\lib\\site-packages\\urllib3\\connectionpool.py:1045: InsecureRequestWarning: Unverified HTTPS request is being made to host 'www.flipkart.com'. Adding certificate verification is strongly advised. See: https://urllib3.readthedocs.io/en/1.26.x/advanced-usage.html#ssl-warnings\n",
      "  warnings.warn(\n",
      "C:\\Users\\RL465FV\\Anaconda3\\lib\\site-packages\\urllib3\\connectionpool.py:1045: InsecureRequestWarning: Unverified HTTPS request is being made to host 'www.flipkart.com'. Adding certificate verification is strongly advised. See: https://urllib3.readthedocs.io/en/1.26.x/advanced-usage.html#ssl-warnings\n",
      "  warnings.warn(\n",
      "C:\\Users\\RL465FV\\Anaconda3\\lib\\site-packages\\urllib3\\connectionpool.py:1045: InsecureRequestWarning: Unverified HTTPS request is being made to host 'www.flipkart.com'. Adding certificate verification is strongly advised. See: https://urllib3.readthedocs.io/en/1.26.x/advanced-usage.html#ssl-warnings\n",
      "  warnings.warn(\n",
      "C:\\Users\\RL465FV\\Anaconda3\\lib\\site-packages\\urllib3\\connectionpool.py:1045: InsecureRequestWarning: Unverified HTTPS request is being made to host 'www.flipkart.com'. Adding certificate verification is strongly advised. See: https://urllib3.readthedocs.io/en/1.26.x/advanced-usage.html#ssl-warnings\n",
      "  warnings.warn(\n",
      "C:\\Users\\RL465FV\\Anaconda3\\lib\\site-packages\\urllib3\\connectionpool.py:1045: InsecureRequestWarning: Unverified HTTPS request is being made to host 'www.flipkart.com'. Adding certificate verification is strongly advised. See: https://urllib3.readthedocs.io/en/1.26.x/advanced-usage.html#ssl-warnings\n",
      "  warnings.warn(\n",
      "C:\\Users\\RL465FV\\Anaconda3\\lib\\site-packages\\urllib3\\connectionpool.py:1045: InsecureRequestWarning: Unverified HTTPS request is being made to host 'www.flipkart.com'. Adding certificate verification is strongly advised. See: https://urllib3.readthedocs.io/en/1.26.x/advanced-usage.html#ssl-warnings\n",
      "  warnings.warn(\n",
      "C:\\Users\\RL465FV\\Anaconda3\\lib\\site-packages\\urllib3\\connectionpool.py:1045: InsecureRequestWarning: Unverified HTTPS request is being made to host 'www.flipkart.com'. Adding certificate verification is strongly advised. See: https://urllib3.readthedocs.io/en/1.26.x/advanced-usage.html#ssl-warnings\n",
      "  warnings.warn(\n",
      "C:\\Users\\RL465FV\\Anaconda3\\lib\\site-packages\\urllib3\\connectionpool.py:1045: InsecureRequestWarning: Unverified HTTPS request is being made to host 'www.flipkart.com'. Adding certificate verification is strongly advised. See: https://urllib3.readthedocs.io/en/1.26.x/advanced-usage.html#ssl-warnings\n",
      "  warnings.warn(\n",
      "C:\\Users\\RL465FV\\Anaconda3\\lib\\site-packages\\urllib3\\connectionpool.py:1045: InsecureRequestWarning: Unverified HTTPS request is being made to host 'www.flipkart.com'. Adding certificate verification is strongly advised. See: https://urllib3.readthedocs.io/en/1.26.x/advanced-usage.html#ssl-warnings\n",
      "  warnings.warn(\n"
     ]
    },
    {
     "name": "stderr",
     "output_type": "stream",
     "text": [
      "C:\\Users\\RL465FV\\Anaconda3\\lib\\site-packages\\urllib3\\connectionpool.py:1045: InsecureRequestWarning: Unverified HTTPS request is being made to host 'www.flipkart.com'. Adding certificate verification is strongly advised. See: https://urllib3.readthedocs.io/en/1.26.x/advanced-usage.html#ssl-warnings\n",
      "  warnings.warn(\n",
      "C:\\Users\\RL465FV\\Anaconda3\\lib\\site-packages\\urllib3\\connectionpool.py:1045: InsecureRequestWarning: Unverified HTTPS request is being made to host 'www.flipkart.com'. Adding certificate verification is strongly advised. See: https://urllib3.readthedocs.io/en/1.26.x/advanced-usage.html#ssl-warnings\n",
      "  warnings.warn(\n",
      "C:\\Users\\RL465FV\\Anaconda3\\lib\\site-packages\\urllib3\\connectionpool.py:1045: InsecureRequestWarning: Unverified HTTPS request is being made to host 'www.flipkart.com'. Adding certificate verification is strongly advised. See: https://urllib3.readthedocs.io/en/1.26.x/advanced-usage.html#ssl-warnings\n",
      "  warnings.warn(\n",
      "C:\\Users\\RL465FV\\Anaconda3\\lib\\site-packages\\urllib3\\connectionpool.py:1045: InsecureRequestWarning: Unverified HTTPS request is being made to host 'www.flipkart.com'. Adding certificate verification is strongly advised. See: https://urllib3.readthedocs.io/en/1.26.x/advanced-usage.html#ssl-warnings\n",
      "  warnings.warn(\n",
      "C:\\Users\\RL465FV\\Anaconda3\\lib\\site-packages\\urllib3\\connectionpool.py:1045: InsecureRequestWarning: Unverified HTTPS request is being made to host 'www.flipkart.com'. Adding certificate verification is strongly advised. See: https://urllib3.readthedocs.io/en/1.26.x/advanced-usage.html#ssl-warnings\n",
      "  warnings.warn(\n",
      "C:\\Users\\RL465FV\\Anaconda3\\lib\\site-packages\\urllib3\\connectionpool.py:1045: InsecureRequestWarning: Unverified HTTPS request is being made to host 'www.flipkart.com'. Adding certificate verification is strongly advised. See: https://urllib3.readthedocs.io/en/1.26.x/advanced-usage.html#ssl-warnings\n",
      "  warnings.warn(\n",
      "C:\\Users\\RL465FV\\Anaconda3\\lib\\site-packages\\urllib3\\connectionpool.py:1045: InsecureRequestWarning: Unverified HTTPS request is being made to host 'www.flipkart.com'. Adding certificate verification is strongly advised. See: https://urllib3.readthedocs.io/en/1.26.x/advanced-usage.html#ssl-warnings\n",
      "  warnings.warn(\n",
      "C:\\Users\\RL465FV\\Anaconda3\\lib\\site-packages\\urllib3\\connectionpool.py:1045: InsecureRequestWarning: Unverified HTTPS request is being made to host 'www.flipkart.com'. Adding certificate verification is strongly advised. See: https://urllib3.readthedocs.io/en/1.26.x/advanced-usage.html#ssl-warnings\n",
      "  warnings.warn(\n",
      "C:\\Users\\RL465FV\\Anaconda3\\lib\\site-packages\\urllib3\\connectionpool.py:1045: InsecureRequestWarning: Unverified HTTPS request is being made to host 'www.flipkart.com'. Adding certificate verification is strongly advised. See: https://urllib3.readthedocs.io/en/1.26.x/advanced-usage.html#ssl-warnings\n",
      "  warnings.warn(\n",
      "C:\\Users\\RL465FV\\Anaconda3\\lib\\site-packages\\urllib3\\connectionpool.py:1045: InsecureRequestWarning: Unverified HTTPS request is being made to host 'www.flipkart.com'. Adding certificate verification is strongly advised. See: https://urllib3.readthedocs.io/en/1.26.x/advanced-usage.html#ssl-warnings\n",
      "  warnings.warn(\n",
      "C:\\Users\\RL465FV\\Anaconda3\\lib\\site-packages\\urllib3\\connectionpool.py:1045: InsecureRequestWarning: Unverified HTTPS request is being made to host 'www.flipkart.com'. Adding certificate verification is strongly advised. See: https://urllib3.readthedocs.io/en/1.26.x/advanced-usage.html#ssl-warnings\n",
      "  warnings.warn(\n",
      "C:\\Users\\RL465FV\\Anaconda3\\lib\\site-packages\\urllib3\\connectionpool.py:1045: InsecureRequestWarning: Unverified HTTPS request is being made to host 'www.flipkart.com'. Adding certificate verification is strongly advised. See: https://urllib3.readthedocs.io/en/1.26.x/advanced-usage.html#ssl-warnings\n",
      "  warnings.warn(\n"
     ]
    }
   ],
   "source": [
    "#1. Creating an empty list to strore the scrapped data in\n",
    "\n",
    "customer_name = []\n",
    "review_subject = []\n",
    "review = []\n",
    "rating = []\n",
    "likes = []\n",
    "dislikes = []\n",
    "\n",
    "#2. Extract data from individual movie names\n",
    "for x in page_len:\n",
    "\n",
    "#Creating the URL:\n",
    "    url1 = 'https://www.flipkart.com/apple-iphone-14-starlight-128-gb/product-reviews/itm3485a56f6e676?pid=MOBGHWFHABH3G73H&lid=LSTMOBGHWFHABH3G73HVXY5AV&marketplace=FLIPKART&page=' + str(x)\n",
    "    \n",
    "    # Recording the response\n",
    "    response1 = get(url1, verify = False)\n",
    "    \n",
    "    # Creating the BeautifulSoup object\n",
    "    \n",
    "    page_html = BeautifulSoup(response1.text, 'html.parser')\n",
    "    \n",
    "    # Creating the container\n",
    "    \n",
    "    container_final = page_html.find_all('div', class_ = 'col _2wzgFH K0kLPL')\n",
    "    \n",
    "    #Extracting data from individual movie names\n",
    "    for container in container_final:\n",
    "        if container.find('div', class_ = '_3LWZlK _1BLPMq') is not None:\n",
    "        \n",
    "# The Name of the reviewer\n",
    "            names = container.find('p', class_ = '_2sc7ZR _2V5EHH').text\n",
    "# The subject of the review\n",
    "            subject = container.p.text\n",
    "# The review \n",
    "            reviews = container.find('div', class_ = '').text\n",
    "# The rating\n",
    "            ratings = container.find('div', class_ = '_3LWZlK _1BLPMq').text\n",
    "# Likes\n",
    "            like = container.find('span', class_ = '_3c3Px5').text\n",
    "# Dislikes\n",
    "            dislike = container.find('div', class_ = '_1LmwT9 pkR4jH').find('span', class_ = '_3c3Px5').text\n",
    "    \n",
    "            customer_name.append(names)\n",
    "            review_subject.append(subject)\n",
    "            review.append(reviews)\n",
    "            rating.append(ratings)\n",
    "            likes.append(int(like))\n",
    "            dislikes.append(int(dislike))"
   ]
  },
  {
   "cell_type": "code",
   "execution_count": 14,
   "id": "ce439908",
   "metadata": {},
   "outputs": [
    {
     "data": {
      "text/html": [
       "<div>\n",
       "<style scoped>\n",
       "    .dataframe tbody tr th:only-of-type {\n",
       "        vertical-align: middle;\n",
       "    }\n",
       "\n",
       "    .dataframe tbody tr th {\n",
       "        vertical-align: top;\n",
       "    }\n",
       "\n",
       "    .dataframe thead th {\n",
       "        text-align: right;\n",
       "    }\n",
       "</style>\n",
       "<table border=\"1\" class=\"dataframe\">\n",
       "  <thead>\n",
       "    <tr style=\"text-align: right;\">\n",
       "      <th></th>\n",
       "      <th>name_of_customer</th>\n",
       "      <th>subject_review</th>\n",
       "      <th>review_by_customer</th>\n",
       "      <th>rating_by_customer</th>\n",
       "      <th>no_of_likes</th>\n",
       "      <th>no_of_dislike</th>\n",
       "    </tr>\n",
       "  </thead>\n",
       "  <tbody>\n",
       "    <tr>\n",
       "      <th>316</th>\n",
       "      <td>Ruden  Lepcha</td>\n",
       "      <td>Pretty good</td>\n",
       "      <td>Good product thank you FlipkartREAD MORE</td>\n",
       "      <td>4</td>\n",
       "      <td>0</td>\n",
       "      <td>0</td>\n",
       "    </tr>\n",
       "    <tr>\n",
       "      <th>317</th>\n",
       "      <td>Lakshit Sharma</td>\n",
       "      <td>Simply awesome</td>\n",
       "      <td>Best phone but same as Iphone 13. There is no ...</td>\n",
       "      <td>5</td>\n",
       "      <td>123</td>\n",
       "      <td>19</td>\n",
       "    </tr>\n",
       "    <tr>\n",
       "      <th>318</th>\n",
       "      <td>Anuj Setia</td>\n",
       "      <td>Must buy!</td>\n",
       "      <td>Very good product and delivered in one day...R...</td>\n",
       "      <td>5</td>\n",
       "      <td>0</td>\n",
       "      <td>0</td>\n",
       "    </tr>\n",
       "    <tr>\n",
       "      <th>319</th>\n",
       "      <td>Pankaj Kumar</td>\n",
       "      <td>Must buy!</td>\n",
       "      <td>product is awesome but price is little highREA...</td>\n",
       "      <td>5</td>\n",
       "      <td>0</td>\n",
       "      <td>0</td>\n",
       "    </tr>\n",
       "    <tr>\n",
       "      <th>320</th>\n",
       "      <td>Sumit Chaudhary</td>\n",
       "      <td>Terrific</td>\n",
       "      <td>Great phoneREAD MORE</td>\n",
       "      <td>5</td>\n",
       "      <td>2</td>\n",
       "      <td>0</td>\n",
       "    </tr>\n",
       "  </tbody>\n",
       "</table>\n",
       "</div>"
      ],
      "text/plain": [
       "    name_of_customer  subject_review  \\\n",
       "316    Ruden  Lepcha     Pretty good   \n",
       "317   Lakshit Sharma  Simply awesome   \n",
       "318       Anuj Setia       Must buy!   \n",
       "319     Pankaj Kumar       Must buy!   \n",
       "320  Sumit Chaudhary        Terrific   \n",
       "\n",
       "                                    review_by_customer rating_by_customer  \\\n",
       "316           Good product thank you FlipkartREAD MORE                  4   \n",
       "317  Best phone but same as Iphone 13. There is no ...                  5   \n",
       "318  Very good product and delivered in one day...R...                  5   \n",
       "319  product is awesome but price is little highREA...                  5   \n",
       "320                               Great phoneREAD MORE                  5   \n",
       "\n",
       "     no_of_likes  no_of_dislike  \n",
       "316            0              0  \n",
       "317          123             19  \n",
       "318            0              0  \n",
       "319            0              0  \n",
       "320            2              0  "
      ]
     },
     "execution_count": 14,
     "metadata": {},
     "output_type": "execute_result"
    }
   ],
   "source": [
    "##Converting into dataframe\n",
    "import pandas as pd\n",
    "df_reviews = pd.DataFrame({'name_of_customer' : customer_name,\n",
    "                      'subject_review' : review_subject,\n",
    "                      'review_by_customer': review,\n",
    "                      'rating_by_customer': rating,\n",
    "                      'no_of_likes': likes,\n",
    "                      'no_of_dislike': dislikes})\n",
    "\n",
    "df_reviews.tail()"
   ]
  },
  {
   "cell_type": "code",
   "execution_count": 16,
   "id": "755a8c30",
   "metadata": {},
   "outputs": [],
   "source": [
    "df_reviews.to_excel(r\"C:\\Users\\RL465FV\\OneDrive - EY\\Desktop\\My_Python\\Web Scrapping\\Iphone14_reviews_flipkart.xlsx\", sheet_name='flipkart reviews')"
   ]
  },
  {
   "cell_type": "markdown",
   "id": "b2288274",
   "metadata": {},
   "source": [
    "TOPIC MODELLING for these reviews"
   ]
  },
  {
   "cell_type": "markdown",
   "id": "6235fda4",
   "metadata": {},
   "source": [
    "Topic Modelling---- In simple words, the process of looking into large collection of documents, identifying clusters of words and grouping them together based on similarity and identifying patterns in the clusters appearing in multitude.\n",
    "\n",
    "Latent Dirichlet Allocation (LDA) is popular algorith for Topic Modeling."
   ]
  },
  {
   "cell_type": "code",
   "execution_count": 15,
   "id": "c02f938a",
   "metadata": {},
   "outputs": [
    {
     "name": "stdout",
     "output_type": "stream",
     "text": [
      "Requirement already satisfied: sklearn in c:\\users\\rl465fv\\anaconda3\\lib\\site-packages (0.0.post1)\n",
      "Requirement already satisfied: nltk in c:\\users\\rl465fv\\anaconda3\\lib\\site-packages (3.7)\n",
      "Requirement already satisfied: click in c:\\users\\rl465fv\\anaconda3\\lib\\site-packages (from nltk) (8.0.4)\n",
      "Requirement already satisfied: tqdm in c:\\users\\rl465fv\\anaconda3\\lib\\site-packages (from nltk) (4.64.1)\n",
      "Requirement already satisfied: regex>=2021.8.3 in c:\\users\\rl465fv\\anaconda3\\lib\\site-packages (from nltk) (2022.7.9)\n",
      "Requirement already satisfied: joblib in c:\\users\\rl465fv\\anaconda3\\lib\\site-packages (from nltk) (1.1.0)\n",
      "Requirement already satisfied: colorama in c:\\users\\rl465fv\\anaconda3\\lib\\site-packages (from click->nltk) (0.4.5)\n"
     ]
    }
   ],
   "source": [
    "!pip install sklearn\n",
    "!pip install nltk"
   ]
  },
  {
   "cell_type": "code",
   "execution_count": 1,
   "id": "9ae060e4",
   "metadata": {},
   "outputs": [],
   "source": [
    "# Importing libraries\n",
    "\n",
    "import numpy as np\n",
    "import pandas as pd\n",
    "import string\n",
    "import nltk\n",
    "from sklearn.feature_extraction.text import TfidfVectorizer\n",
    "from nltk.corpus import stopwords\n",
    "from sklearn.decomposition import LatentDirichletAllocation"
   ]
  },
  {
   "cell_type": "code",
   "execution_count": 2,
   "id": "bbd54312",
   "metadata": {},
   "outputs": [
    {
     "data": {
      "text/html": [
       "<div>\n",
       "<style scoped>\n",
       "    .dataframe tbody tr th:only-of-type {\n",
       "        vertical-align: middle;\n",
       "    }\n",
       "\n",
       "    .dataframe tbody tr th {\n",
       "        vertical-align: top;\n",
       "    }\n",
       "\n",
       "    .dataframe thead th {\n",
       "        text-align: right;\n",
       "    }\n",
       "</style>\n",
       "<table border=\"1\" class=\"dataframe\">\n",
       "  <thead>\n",
       "    <tr style=\"text-align: right;\">\n",
       "      <th></th>\n",
       "      <th>Unnamed: 0</th>\n",
       "      <th>name_of_customer</th>\n",
       "      <th>subject_review</th>\n",
       "      <th>review_by_customer</th>\n",
       "      <th>rating_by_customer</th>\n",
       "      <th>no_of_likes</th>\n",
       "      <th>no_of_dislike</th>\n",
       "    </tr>\n",
       "  </thead>\n",
       "  <tbody>\n",
       "    <tr>\n",
       "      <th>0</th>\n",
       "      <td>0</td>\n",
       "      <td>Rahul Prasad</td>\n",
       "      <td>Fabulous!</td>\n",
       "      <td>Best smart phone under this price range compar...</td>\n",
       "      <td>5</td>\n",
       "      <td>4832</td>\n",
       "      <td>602</td>\n",
       "    </tr>\n",
       "    <tr>\n",
       "      <th>1</th>\n",
       "      <td>1</td>\n",
       "      <td>Sankhadip Mazumder</td>\n",
       "      <td>Good choice</td>\n",
       "      <td>It's a apple device .. that means you get the ...</td>\n",
       "      <td>4</td>\n",
       "      <td>3535</td>\n",
       "      <td>640</td>\n",
       "    </tr>\n",
       "    <tr>\n",
       "      <th>2</th>\n",
       "      <td>2</td>\n",
       "      <td>Flipkart Customer</td>\n",
       "      <td>Best in the market!</td>\n",
       "      <td>Excellent smart phone, Good battery backup and...</td>\n",
       "      <td>5</td>\n",
       "      <td>2761</td>\n",
       "      <td>509</td>\n",
       "    </tr>\n",
       "    <tr>\n",
       "      <th>3</th>\n",
       "      <td>3</td>\n",
       "      <td>Flipkart Customer</td>\n",
       "      <td>Terrific</td>\n",
       "      <td>Damn such a great phone. Camera is really good...</td>\n",
       "      <td>5</td>\n",
       "      <td>298</td>\n",
       "      <td>49</td>\n",
       "    </tr>\n",
       "    <tr>\n",
       "      <th>4</th>\n",
       "      <td>4</td>\n",
       "      <td>Feecon Behera</td>\n",
       "      <td>Must buy!</td>\n",
       "      <td>Just awesome!!I switch to iPhone 14 from iPhon...</td>\n",
       "      <td>5</td>\n",
       "      <td>709</td>\n",
       "      <td>160</td>\n",
       "    </tr>\n",
       "  </tbody>\n",
       "</table>\n",
       "</div>"
      ],
      "text/plain": [
       "   Unnamed: 0    name_of_customer       subject_review  \\\n",
       "0           0       Rahul Prasad             Fabulous!   \n",
       "1           1  Sankhadip Mazumder          Good choice   \n",
       "2           2   Flipkart Customer  Best in the market!   \n",
       "3           3   Flipkart Customer             Terrific   \n",
       "4           4       Feecon Behera            Must buy!   \n",
       "\n",
       "                                  review_by_customer  rating_by_customer  \\\n",
       "0  Best smart phone under this price range compar...                   5   \n",
       "1  It's a apple device .. that means you get the ...                   4   \n",
       "2  Excellent smart phone, Good battery backup and...                   5   \n",
       "3  Damn such a great phone. Camera is really good...                   5   \n",
       "4  Just awesome!!I switch to iPhone 14 from iPhon...                   5   \n",
       "\n",
       "   no_of_likes  no_of_dislike  \n",
       "0         4832            602  \n",
       "1         3535            640  \n",
       "2         2761            509  \n",
       "3          298             49  \n",
       "4          709            160  "
      ]
     },
     "execution_count": 2,
     "metadata": {},
     "output_type": "execute_result"
    }
   ],
   "source": [
    "# Importing the data\n",
    "\n",
    "review = pd.read_excel(r\"C:\\Users\\RL465FV\\OneDrive - EY\\Desktop\\My_Python\\Web Scrapping\\Iphone14_reviews_flipkart.xlsx\")\n",
    "\n",
    "review.head()"
   ]
  },
  {
   "cell_type": "code",
   "execution_count": 3,
   "id": "dec51cac",
   "metadata": {},
   "outputs": [
    {
     "name": "stderr",
     "output_type": "stream",
     "text": [
      "[nltk_data] Downloading package stopwords to\n",
      "[nltk_data]     C:\\Users\\RL465FV\\AppData\\Roaming\\nltk_data...\n",
      "[nltk_data]   Package stopwords is already up-to-date!\n"
     ]
    },
    {
     "data": {
      "text/plain": [
       "True"
      ]
     },
     "execution_count": 3,
     "metadata": {},
     "output_type": "execute_result"
    }
   ],
   "source": [
    "import nltk\n",
    "nltk.download('stopwords')"
   ]
  },
  {
   "cell_type": "code",
   "execution_count": 4,
   "id": "e2111e9a",
   "metadata": {},
   "outputs": [
    {
     "name": "stderr",
     "output_type": "stream",
     "text": [
      "C:\\Users\\RL465FV\\AppData\\Local\\Temp\\ipykernel_37764\\3352568151.py:10: FutureWarning: The default value of regex will change from True to False in a future version.\n",
      "  df['clean_text'] = df['review_by_customer'].str.lower().str.replace('[^a-z]', ' ')\n",
      "C:\\Users\\RL465FV\\AppData\\Local\\Temp\\ipykernel_37764\\3352568151.py:10: SettingWithCopyWarning: \n",
      "A value is trying to be set on a copy of a slice from a DataFrame.\n",
      "Try using .loc[row_indexer,col_indexer] = value instead\n",
      "\n",
      "See the caveats in the documentation: https://pandas.pydata.org/pandas-docs/stable/user_guide/indexing.html#returning-a-view-versus-a-copy\n",
      "  df['clean_text'] = df['review_by_customer'].str.lower().str.replace('[^a-z]', ' ')\n"
     ]
    },
    {
     "data": {
      "text/html": [
       "<div>\n",
       "<style scoped>\n",
       "    .dataframe tbody tr th:only-of-type {\n",
       "        vertical-align: middle;\n",
       "    }\n",
       "\n",
       "    .dataframe tbody tr th {\n",
       "        vertical-align: top;\n",
       "    }\n",
       "\n",
       "    .dataframe thead th {\n",
       "        text-align: right;\n",
       "    }\n",
       "</style>\n",
       "<table border=\"1\" class=\"dataframe\">\n",
       "  <thead>\n",
       "    <tr style=\"text-align: right;\">\n",
       "      <th></th>\n",
       "      <th>review_by_customer</th>\n",
       "      <th>clean_text</th>\n",
       "    </tr>\n",
       "  </thead>\n",
       "  <tbody>\n",
       "    <tr>\n",
       "      <th>0</th>\n",
       "      <td>Best smart phone under this price range compar...</td>\n",
       "      <td>best smart phone under this price range compar...</td>\n",
       "    </tr>\n",
       "    <tr>\n",
       "      <th>1</th>\n",
       "      <td>It's a apple device .. that means you get the ...</td>\n",
       "      <td>it s a apple device    that means you get the ...</td>\n",
       "    </tr>\n",
       "    <tr>\n",
       "      <th>2</th>\n",
       "      <td>Excellent smart phone, Good battery backup and...</td>\n",
       "      <td>excellent smart phone  good battery backup and...</td>\n",
       "    </tr>\n",
       "    <tr>\n",
       "      <th>3</th>\n",
       "      <td>Damn such a great phone. Camera is really good...</td>\n",
       "      <td>damn such a great phone  camera is really good...</td>\n",
       "    </tr>\n",
       "    <tr>\n",
       "      <th>4</th>\n",
       "      <td>Just awesome!!I switch to iPhone 14 from iPhon...</td>\n",
       "      <td>just awesome  i switch to iphone    from iphon...</td>\n",
       "    </tr>\n",
       "  </tbody>\n",
       "</table>\n",
       "</div>"
      ],
      "text/plain": [
       "                                  review_by_customer  \\\n",
       "0  Best smart phone under this price range compar...   \n",
       "1  It's a apple device .. that means you get the ...   \n",
       "2  Excellent smart phone, Good battery backup and...   \n",
       "3  Damn such a great phone. Camera is really good...   \n",
       "4  Just awesome!!I switch to iPhone 14 from iPhon...   \n",
       "\n",
       "                                          clean_text  \n",
       "0  best smart phone under this price range compar...  \n",
       "1  it s a apple device    that means you get the ...  \n",
       "2  excellent smart phone  good battery backup and...  \n",
       "3  damn such a great phone  camera is really good...  \n",
       "4  just awesome  i switch to iphone    from iphon...  "
      ]
     },
     "execution_count": 4,
     "metadata": {},
     "output_type": "execute_result"
    }
   ],
   "source": [
    "# We will be working on review_by_customer column\n",
    "\n",
    "# Selecting only words\n",
    "\n",
    "df = review[['review_by_customer']]\n",
    "\n",
    "# Cleaning the reviews\n",
    "\n",
    "#1 Converting into lower case and removing all the characters & symbols\n",
    "df['clean_text'] = df['review_by_customer'].str.lower().str.replace('[^a-z]', ' ')\n",
    "df.head()"
   ]
  },
  {
   "cell_type": "code",
   "execution_count": 5,
   "id": "e3bb76c8",
   "metadata": {},
   "outputs": [
    {
     "name": "stderr",
     "output_type": "stream",
     "text": [
      "C:\\Users\\RL465FV\\AppData\\Local\\Temp\\ipykernel_37764\\3286156346.py:10: SettingWithCopyWarning: \n",
      "A value is trying to be set on a copy of a slice from a DataFrame.\n",
      "Try using .loc[row_indexer,col_indexer] = value instead\n",
      "\n",
      "See the caveats in the documentation: https://pandas.pydata.org/pandas-docs/stable/user_guide/indexing.html#returning-a-view-versus-a-copy\n",
      "  df['split_text'] = df['clean_text'].apply(sw)\n"
     ]
    },
    {
     "data": {
      "text/html": [
       "<div>\n",
       "<style scoped>\n",
       "    .dataframe tbody tr th:only-of-type {\n",
       "        vertical-align: middle;\n",
       "    }\n",
       "\n",
       "    .dataframe tbody tr th {\n",
       "        vertical-align: top;\n",
       "    }\n",
       "\n",
       "    .dataframe thead th {\n",
       "        text-align: right;\n",
       "    }\n",
       "</style>\n",
       "<table border=\"1\" class=\"dataframe\">\n",
       "  <thead>\n",
       "    <tr style=\"text-align: right;\">\n",
       "      <th></th>\n",
       "      <th>review_by_customer</th>\n",
       "      <th>clean_text</th>\n",
       "      <th>split_text</th>\n",
       "    </tr>\n",
       "  </thead>\n",
       "  <tbody>\n",
       "    <tr>\n",
       "      <th>0</th>\n",
       "      <td>Best smart phone under this price range compar...</td>\n",
       "      <td>best smart phone under this price range compar...</td>\n",
       "      <td>best smart phone price range compare phones se...</td>\n",
       "    </tr>\n",
       "    <tr>\n",
       "      <th>1</th>\n",
       "      <td>It's a apple device .. that means you get the ...</td>\n",
       "      <td>it s a apple device    that means you get the ...</td>\n",
       "      <td>apple device means get good old ios performanc...</td>\n",
       "    </tr>\n",
       "    <tr>\n",
       "      <th>2</th>\n",
       "      <td>Excellent smart phone, Good battery backup and...</td>\n",
       "      <td>excellent smart phone  good battery backup and...</td>\n",
       "      <td>excellent smart phone good battery backup perf...</td>\n",
       "    </tr>\n",
       "    <tr>\n",
       "      <th>3</th>\n",
       "      <td>Damn such a great phone. Camera is really good...</td>\n",
       "      <td>damn such a great phone  camera is really good...</td>\n",
       "      <td>damn great phone camera really good battery la...</td>\n",
       "    </tr>\n",
       "    <tr>\n",
       "      <th>4</th>\n",
       "      <td>Just awesome!!I switch to iPhone 14 from iPhon...</td>\n",
       "      <td>just awesome  i switch to iphone    from iphon...</td>\n",
       "      <td>awesome switch iphone iphone powerful chipset ...</td>\n",
       "    </tr>\n",
       "  </tbody>\n",
       "</table>\n",
       "</div>"
      ],
      "text/plain": [
       "                                  review_by_customer  \\\n",
       "0  Best smart phone under this price range compar...   \n",
       "1  It's a apple device .. that means you get the ...   \n",
       "2  Excellent smart phone, Good battery backup and...   \n",
       "3  Damn such a great phone. Camera is really good...   \n",
       "4  Just awesome!!I switch to iPhone 14 from iPhon...   \n",
       "\n",
       "                                          clean_text  \\\n",
       "0  best smart phone under this price range compar...   \n",
       "1  it s a apple device    that means you get the ...   \n",
       "2  excellent smart phone  good battery backup and...   \n",
       "3  damn such a great phone  camera is really good...   \n",
       "4  just awesome  i switch to iphone    from iphon...   \n",
       "\n",
       "                                          split_text  \n",
       "0  best smart phone price range compare phones se...  \n",
       "1  apple device means get good old ios performanc...  \n",
       "2  excellent smart phone good battery backup perf...  \n",
       "3  damn great phone camera really good battery la...  \n",
       "4  awesome switch iphone iphone powerful chipset ...  "
      ]
     },
     "execution_count": 5,
     "metadata": {},
     "output_type": "execute_result"
    }
   ],
   "source": [
    "#2 Removing the stop words\n",
    "\n",
    "stop = stopwords.words('english')\n",
    "\n",
    "def sw(text):\n",
    "    text = [word for word in text.split() if word not in stop]\n",
    "    # joining the list of words with space separator\n",
    "    return \" \".join(text)\n",
    "\n",
    "df['split_text'] = df['clean_text'].apply(sw)\n",
    "df.head()"
   ]
  },
  {
   "cell_type": "code",
   "execution_count": 6,
   "id": "d97eccbb",
   "metadata": {},
   "outputs": [
    {
     "name": "stderr",
     "output_type": "stream",
     "text": [
      "C:\\Users\\RL465FV\\AppData\\Local\\Temp\\ipykernel_37764\\588116809.py:7: SettingWithCopyWarning: \n",
      "A value is trying to be set on a copy of a slice from a DataFrame.\n",
      "Try using .loc[row_indexer,col_indexer] = value instead\n",
      "\n",
      "See the caveats in the documentation: https://pandas.pydata.org/pandas-docs/stable/user_guide/indexing.html#returning-a-view-versus-a-copy\n",
      "  df['clean_final'] = df['split_text'].apply(lw)\n"
     ]
    },
    {
     "data": {
      "text/html": [
       "<div>\n",
       "<style scoped>\n",
       "    .dataframe tbody tr th:only-of-type {\n",
       "        vertical-align: middle;\n",
       "    }\n",
       "\n",
       "    .dataframe tbody tr th {\n",
       "        vertical-align: top;\n",
       "    }\n",
       "\n",
       "    .dataframe thead th {\n",
       "        text-align: right;\n",
       "    }\n",
       "</style>\n",
       "<table border=\"1\" class=\"dataframe\">\n",
       "  <thead>\n",
       "    <tr style=\"text-align: right;\">\n",
       "      <th></th>\n",
       "      <th>review_by_customer</th>\n",
       "      <th>clean_text</th>\n",
       "      <th>split_text</th>\n",
       "      <th>clean_final</th>\n",
       "    </tr>\n",
       "  </thead>\n",
       "  <tbody>\n",
       "    <tr>\n",
       "      <th>0</th>\n",
       "      <td>Best smart phone under this price range compar...</td>\n",
       "      <td>best smart phone under this price range compar...</td>\n",
       "      <td>best smart phone price range compare phones se...</td>\n",
       "      <td>best smart phone price range compare phones ov...</td>\n",
       "    </tr>\n",
       "    <tr>\n",
       "      <th>1</th>\n",
       "      <td>It's a apple device .. that means you get the ...</td>\n",
       "      <td>it s a apple device    that means you get the ...</td>\n",
       "      <td>apple device means get good old ios performanc...</td>\n",
       "      <td>apple device means good performance issue supp...</td>\n",
       "    </tr>\n",
       "    <tr>\n",
       "      <th>2</th>\n",
       "      <td>Excellent smart phone, Good battery backup and...</td>\n",
       "      <td>excellent smart phone  good battery backup and...</td>\n",
       "      <td>excellent smart phone good battery backup perf...</td>\n",
       "      <td>excellent smart phone good battery backup perf...</td>\n",
       "    </tr>\n",
       "    <tr>\n",
       "      <th>3</th>\n",
       "      <td>Damn such a great phone. Camera is really good...</td>\n",
       "      <td>damn such a great phone  camera is really good...</td>\n",
       "      <td>damn great phone camera really good battery la...</td>\n",
       "      <td>damn great phone camera really good battery la...</td>\n",
       "    </tr>\n",
       "    <tr>\n",
       "      <th>4</th>\n",
       "      <td>Just awesome!!I switch to iPhone 14 from iPhon...</td>\n",
       "      <td>just awesome  i switch to iphone    from iphon...</td>\n",
       "      <td>awesome switch iphone iphone powerful chipset ...</td>\n",
       "      <td>awesome switch iphone iphone powerful chipset ...</td>\n",
       "    </tr>\n",
       "  </tbody>\n",
       "</table>\n",
       "</div>"
      ],
      "text/plain": [
       "                                  review_by_customer  \\\n",
       "0  Best smart phone under this price range compar...   \n",
       "1  It's a apple device .. that means you get the ...   \n",
       "2  Excellent smart phone, Good battery backup and...   \n",
       "3  Damn such a great phone. Camera is really good...   \n",
       "4  Just awesome!!I switch to iPhone 14 from iPhon...   \n",
       "\n",
       "                                          clean_text  \\\n",
       "0  best smart phone under this price range compar...   \n",
       "1  it s a apple device    that means you get the ...   \n",
       "2  excellent smart phone  good battery backup and...   \n",
       "3  damn such a great phone  camera is really good...   \n",
       "4  just awesome  i switch to iphone    from iphon...   \n",
       "\n",
       "                                          split_text  \\\n",
       "0  best smart phone price range compare phones se...   \n",
       "1  apple device means get good old ios performanc...   \n",
       "2  excellent smart phone good battery backup perf...   \n",
       "3  damn great phone camera really good battery la...   \n",
       "4  awesome switch iphone iphone powerful chipset ...   \n",
       "\n",
       "                                         clean_final  \n",
       "0  best smart phone price range compare phones ov...  \n",
       "1  apple device means good performance issue supp...  \n",
       "2  excellent smart phone good battery backup perf...  \n",
       "3  damn great phone camera really good battery la...  \n",
       "4  awesome switch iphone iphone powerful chipset ...  "
      ]
     },
     "execution_count": 6,
     "metadata": {},
     "output_type": "execute_result"
    }
   ],
   "source": [
    "# Get rid of words which are of 3 or less than 3 letters\n",
    "\n",
    "def lw(x):\n",
    "    x = [word for word in x.split() if len(word)>3]\n",
    "    return \" \". join(x)\n",
    "\n",
    "df['clean_final'] = df['split_text'].apply(lw)\n",
    "\n",
    "df.head()"
   ]
  },
  {
   "cell_type": "code",
   "execution_count": 6,
   "id": "b2a35ede",
   "metadata": {},
   "outputs": [
    {
     "data": {
      "text/plain": [
       "<365x749 sparse matrix of type '<class 'numpy.float64'>'\n",
       "\twith 2299 stored elements in Compressed Sparse Row format>"
      ]
     },
     "execution_count": 6,
     "metadata": {},
     "output_type": "execute_result"
    }
   ],
   "source": [
    "# Creating Tfidf vectoriser and DTM\n",
    "\n",
    "tfid_vec = TfidfVectorizer()\n",
    "\n",
    "# Fitting the vectoriser\n",
    "\n",
    "tfid_vec.fit(df['clean_final'])\n",
    "\n",
    "# Creating the DTM matrix\n",
    "\n",
    "X = tfid_vec.fit_transform(df['clean_final'])\n",
    "\n",
    "X"
   ]
  },
  {
   "cell_type": "code",
   "execution_count": 7,
   "id": "447be857",
   "metadata": {},
   "outputs": [
    {
     "name": "stdout",
     "output_type": "stream",
     "text": [
      "LatentDirichletAllocation(n_components=5)\n"
     ]
    }
   ],
   "source": [
    "# Building LDA model with sklearn\n",
    "\n",
    "lda_model = LatentDirichletAllocation(n_components=5, max_iter=10)\n",
    "\n",
    "lda_output = lda_model.fit_transform(X)\n",
    "\n",
    "print(lda_model) # Model attributes"
   ]
  },
  {
   "cell_type": "code",
   "execution_count": 10,
   "id": "794b2482",
   "metadata": {},
   "outputs": [
    {
     "ename": "NameError",
     "evalue": "name 'doc' is not defined",
     "output_type": "error",
     "traceback": [
      "\u001b[1;31m---------------------------------------------------------------------------\u001b[0m",
      "\u001b[1;31mNameError\u001b[0m                                 Traceback (most recent call last)",
      "\u001b[1;32m~\\AppData\\Local\\Temp\\ipykernel_31548\\709748767.py\u001b[0m in \u001b[0;36m<module>\u001b[1;34m\u001b[0m\n\u001b[0;32m      6\u001b[0m \u001b[1;33m\u001b[0m\u001b[0m\n\u001b[0;32m      7\u001b[0m \u001b[1;31m# Create the index names of Document-topic matrix\u001b[0m\u001b[1;33m\u001b[0m\u001b[1;33m\u001b[0m\u001b[0m\n\u001b[1;32m----> 8\u001b[1;33m \u001b[0mdocnames\u001b[0m \u001b[1;33m=\u001b[0m \u001b[1;33m[\u001b[0m\u001b[1;34m\"Doc \"\u001b[0m \u001b[1;33m+\u001b[0m \u001b[0mstr\u001b[0m\u001b[1;33m(\u001b[0m\u001b[0mi\u001b[0m\u001b[1;33m)\u001b[0m \u001b[1;32mfor\u001b[0m \u001b[0mi\u001b[0m \u001b[1;32min\u001b[0m \u001b[0mrange\u001b[0m\u001b[1;33m(\u001b[0m\u001b[0mlen\u001b[0m\u001b[1;33m(\u001b[0m\u001b[0mdoc\u001b[0m\u001b[1;33m)\u001b[0m\u001b[1;33m)\u001b[0m\u001b[1;33m]\u001b[0m\u001b[1;33m\u001b[0m\u001b[1;33m\u001b[0m\u001b[0m\n\u001b[0m\u001b[0;32m      9\u001b[0m \u001b[1;33m\u001b[0m\u001b[0m\n\u001b[0;32m     10\u001b[0m \u001b[1;31m# Make the pandas dataframe with cells containing the probabilities of each document to classify under each topic\u001b[0m\u001b[1;33m\u001b[0m\u001b[1;33m\u001b[0m\u001b[0m\n",
      "\u001b[1;31mNameError\u001b[0m: name 'doc' is not defined"
     ]
    }
   ],
   "source": [
    "# How to see the document topic in each document ?\n",
    "\n",
    "# Create the column names of documnent-topic matrix\n",
    "\n",
    "topicnames = [\"Topic\" + str(i) for i in range(lda_model.n_components)]\n",
    "\n",
    "# Create the index names of Document-topic matrix\n",
    "docnames = [\"Doc \" + str(i) for i in range(len(doc))]\n",
    "\n",
    "# Make the pandas dataframe with cells containing the probabilities of each document to classify under each topic\n",
    "\n",
    "df_document_topic = pd.DataFrame(np.round(lda_output, 2), columns = topicnames, index = docnames)\n",
    "\n",
    "# Get dominant topic for each document\n",
    "\n",
    "dominant_topic = np.argmax(df_document_topic.values, axis = 1)\n",
    "\n",
    "df_document_topic['dominant_topic'] = dominant_topic\n",
    "\n",
    "df_dominant_topic.head()"
   ]
  },
  {
   "cell_type": "code",
   "execution_count": null,
   "id": "e54a53e1",
   "metadata": {},
   "outputs": [],
   "source": []
  }
 ],
 "metadata": {
  "kernelspec": {
   "display_name": "Python 3 (ipykernel)",
   "language": "python",
   "name": "python3"
  },
  "language_info": {
   "codemirror_mode": {
    "name": "ipython",
    "version": 3
   },
   "file_extension": ".py",
   "mimetype": "text/x-python",
   "name": "python",
   "nbconvert_exporter": "python",
   "pygments_lexer": "ipython3",
   "version": "3.9.13"
  }
 },
 "nbformat": 4,
 "nbformat_minor": 5
}
